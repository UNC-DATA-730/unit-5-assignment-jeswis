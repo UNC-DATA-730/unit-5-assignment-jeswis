{
 "cells": [
  {
   "cell_type": "markdown",
   "id": "8c80b287-87e0-42bf-9f58-9f765c592b27",
   "metadata": {},
   "source": [
    "Load the `ISLR2` and `tidymodels` packages."
   ]
  },
  {
   "cell_type": "code",
   "execution_count": 3,
   "id": "edbb9314-0b2a-41ba-8ef3-29e6477ba185",
   "metadata": {
    "tags": []
   },
   "outputs": [
    {
     "name": "stderr",
     "output_type": "stream",
     "text": [
      "Warning message:\n",
      "“Your system is mis-configured: ‘/var/db/timezone/localtime’ is not a symlink”\n",
      "Warning message:\n",
      "“‘/var/db/timezone/localtime’ is not identical to any known timezone file”\n",
      "── \u001b[1mAttaching packages\u001b[22m ────────────────────────────────────── tidymodels 1.2.0 ──\n",
      "\n",
      "\u001b[32m✔\u001b[39m \u001b[34mbroom       \u001b[39m 1.0.6     \u001b[32m✔\u001b[39m \u001b[34mrecipes     \u001b[39m 1.1.0\n",
      "\u001b[32m✔\u001b[39m \u001b[34mdials       \u001b[39m 1.3.0     \u001b[32m✔\u001b[39m \u001b[34mrsample     \u001b[39m 1.2.1\n",
      "\u001b[32m✔\u001b[39m \u001b[34mdplyr       \u001b[39m 1.1.4     \u001b[32m✔\u001b[39m \u001b[34mtibble      \u001b[39m 3.2.1\n",
      "\u001b[32m✔\u001b[39m \u001b[34mggplot2     \u001b[39m 3.5.1     \u001b[32m✔\u001b[39m \u001b[34mtidyr       \u001b[39m 1.3.1\n",
      "\u001b[32m✔\u001b[39m \u001b[34minfer       \u001b[39m 1.0.7     \u001b[32m✔\u001b[39m \u001b[34mtune        \u001b[39m 1.2.1\n",
      "\u001b[32m✔\u001b[39m \u001b[34mmodeldata   \u001b[39m 1.4.0     \u001b[32m✔\u001b[39m \u001b[34mworkflows   \u001b[39m 1.1.4\n",
      "\u001b[32m✔\u001b[39m \u001b[34mparsnip     \u001b[39m 1.2.1     \u001b[32m✔\u001b[39m \u001b[34mworkflowsets\u001b[39m 1.1.0\n",
      "\u001b[32m✔\u001b[39m \u001b[34mpurrr       \u001b[39m 1.0.2     \u001b[32m✔\u001b[39m \u001b[34myardstick   \u001b[39m 1.3.1\n",
      "\n",
      "── \u001b[1mConflicts\u001b[22m ───────────────────────────────────────── tidymodels_conflicts() ──\n",
      "\u001b[31m✖\u001b[39m \u001b[34mpurrr\u001b[39m::\u001b[32mdiscard()\u001b[39m masks \u001b[34mscales\u001b[39m::discard()\n",
      "\u001b[31m✖\u001b[39m \u001b[34mdplyr\u001b[39m::\u001b[32mfilter()\u001b[39m  masks \u001b[34mstats\u001b[39m::filter()\n",
      "\u001b[31m✖\u001b[39m \u001b[34mdplyr\u001b[39m::\u001b[32mlag()\u001b[39m     masks \u001b[34mstats\u001b[39m::lag()\n",
      "\u001b[31m✖\u001b[39m \u001b[34mrecipes\u001b[39m::\u001b[32mstep()\u001b[39m  masks \u001b[34mstats\u001b[39m::step()\n",
      "\u001b[34m•\u001b[39m Use suppressPackageStartupMessages() to eliminate package startup messages\n",
      "\n"
     ]
    }
   ],
   "source": [
    "library('ISLR2')\n",
    "library('tidymodels')\n",
    "\n"
   ]
  },
  {
   "cell_type": "markdown",
   "id": "be7525be-f265-4f76-87ed-485257ae163b",
   "metadata": {},
   "source": [
    "Take a look at the `Smarket` dataset which comes from the ISLR2 package (also described in [the book](https://www.statlearning.com/)). "
   ]
  },
  {
   "cell_type": "code",
   "execution_count": 4,
   "id": "d3ba55ba-5676-41fd-8bc6-7240fd3efd47",
   "metadata": {
    "tags": []
   },
   "outputs": [
    {
     "data": {
      "text/html": [
       "<table class=\"dataframe\">\n",
       "<caption>A data.frame: 6 × 9</caption>\n",
       "<thead>\n",
       "\t<tr><th></th><th scope=col>Year</th><th scope=col>Lag1</th><th scope=col>Lag2</th><th scope=col>Lag3</th><th scope=col>Lag4</th><th scope=col>Lag5</th><th scope=col>Volume</th><th scope=col>Today</th><th scope=col>Direction</th></tr>\n",
       "\t<tr><th></th><th scope=col>&lt;dbl&gt;</th><th scope=col>&lt;dbl&gt;</th><th scope=col>&lt;dbl&gt;</th><th scope=col>&lt;dbl&gt;</th><th scope=col>&lt;dbl&gt;</th><th scope=col>&lt;dbl&gt;</th><th scope=col>&lt;dbl&gt;</th><th scope=col>&lt;dbl&gt;</th><th scope=col>&lt;fct&gt;</th></tr>\n",
       "</thead>\n",
       "<tbody>\n",
       "\t<tr><th scope=row>1</th><td>2001</td><td> 0.381</td><td>-0.192</td><td>-2.624</td><td>-1.055</td><td> 5.010</td><td>1.1913</td><td> 0.959</td><td>Up  </td></tr>\n",
       "\t<tr><th scope=row>2</th><td>2001</td><td> 0.959</td><td> 0.381</td><td>-0.192</td><td>-2.624</td><td>-1.055</td><td>1.2965</td><td> 1.032</td><td>Up  </td></tr>\n",
       "\t<tr><th scope=row>3</th><td>2001</td><td> 1.032</td><td> 0.959</td><td> 0.381</td><td>-0.192</td><td>-2.624</td><td>1.4112</td><td>-0.623</td><td>Down</td></tr>\n",
       "\t<tr><th scope=row>4</th><td>2001</td><td>-0.623</td><td> 1.032</td><td> 0.959</td><td> 0.381</td><td>-0.192</td><td>1.2760</td><td> 0.614</td><td>Up  </td></tr>\n",
       "\t<tr><th scope=row>5</th><td>2001</td><td> 0.614</td><td>-0.623</td><td> 1.032</td><td> 0.959</td><td> 0.381</td><td>1.2057</td><td> 0.213</td><td>Up  </td></tr>\n",
       "\t<tr><th scope=row>6</th><td>2001</td><td> 0.213</td><td> 0.614</td><td>-0.623</td><td> 1.032</td><td> 0.959</td><td>1.3491</td><td> 1.392</td><td>Up  </td></tr>\n",
       "</tbody>\n",
       "</table>\n"
      ],
      "text/latex": [
       "A data.frame: 6 × 9\n",
       "\\begin{tabular}{r|lllllllll}\n",
       "  & Year & Lag1 & Lag2 & Lag3 & Lag4 & Lag5 & Volume & Today & Direction\\\\\n",
       "  & <dbl> & <dbl> & <dbl> & <dbl> & <dbl> & <dbl> & <dbl> & <dbl> & <fct>\\\\\n",
       "\\hline\n",
       "\t1 & 2001 &  0.381 & -0.192 & -2.624 & -1.055 &  5.010 & 1.1913 &  0.959 & Up  \\\\\n",
       "\t2 & 2001 &  0.959 &  0.381 & -0.192 & -2.624 & -1.055 & 1.2965 &  1.032 & Up  \\\\\n",
       "\t3 & 2001 &  1.032 &  0.959 &  0.381 & -0.192 & -2.624 & 1.4112 & -0.623 & Down\\\\\n",
       "\t4 & 2001 & -0.623 &  1.032 &  0.959 &  0.381 & -0.192 & 1.2760 &  0.614 & Up  \\\\\n",
       "\t5 & 2001 &  0.614 & -0.623 &  1.032 &  0.959 &  0.381 & 1.2057 &  0.213 & Up  \\\\\n",
       "\t6 & 2001 &  0.213 &  0.614 & -0.623 &  1.032 &  0.959 & 1.3491 &  1.392 & Up  \\\\\n",
       "\\end{tabular}\n"
      ],
      "text/markdown": [
       "\n",
       "A data.frame: 6 × 9\n",
       "\n",
       "| <!--/--> | Year &lt;dbl&gt; | Lag1 &lt;dbl&gt; | Lag2 &lt;dbl&gt; | Lag3 &lt;dbl&gt; | Lag4 &lt;dbl&gt; | Lag5 &lt;dbl&gt; | Volume &lt;dbl&gt; | Today &lt;dbl&gt; | Direction &lt;fct&gt; |\n",
       "|---|---|---|---|---|---|---|---|---|---|\n",
       "| 1 | 2001 |  0.381 | -0.192 | -2.624 | -1.055 |  5.010 | 1.1913 |  0.959 | Up   |\n",
       "| 2 | 2001 |  0.959 |  0.381 | -0.192 | -2.624 | -1.055 | 1.2965 |  1.032 | Up   |\n",
       "| 3 | 2001 |  1.032 |  0.959 |  0.381 | -0.192 | -2.624 | 1.4112 | -0.623 | Down |\n",
       "| 4 | 2001 | -0.623 |  1.032 |  0.959 |  0.381 | -0.192 | 1.2760 |  0.614 | Up   |\n",
       "| 5 | 2001 |  0.614 | -0.623 |  1.032 |  0.959 |  0.381 | 1.2057 |  0.213 | Up   |\n",
       "| 6 | 2001 |  0.213 |  0.614 | -0.623 |  1.032 |  0.959 | 1.3491 |  1.392 | Up   |\n",
       "\n"
      ],
      "text/plain": [
       "  Year Lag1   Lag2   Lag3   Lag4   Lag5   Volume Today  Direction\n",
       "1 2001  0.381 -0.192 -2.624 -1.055  5.010 1.1913  0.959 Up       \n",
       "2 2001  0.959  0.381 -0.192 -2.624 -1.055 1.2965  1.032 Up       \n",
       "3 2001  1.032  0.959  0.381 -0.192 -2.624 1.4112 -0.623 Down     \n",
       "4 2001 -0.623  1.032  0.959  0.381 -0.192 1.2760  0.614 Up       \n",
       "5 2001  0.614 -0.623  1.032  0.959  0.381 1.2057  0.213 Up       \n",
       "6 2001  0.213  0.614 -0.623  1.032  0.959 1.3491  1.392 Up       "
      ]
     },
     "metadata": {},
     "output_type": "display_data"
    }
   ],
   "source": [
    "Smarket |> head() #stock market data set, look at contextual help for info\n",
    "\n"
   ]
  },
  {
   "cell_type": "markdown",
   "id": "d21301bd-10ab-44d6-8acd-bfe751484b90",
   "metadata": {},
   "source": [
    "Let's see if we can predict when the market will be \"Up\" or \"Down\" (see the \"Direction\" variable of `Smarket`). We use the following variables as predictors:\n",
    "\n",
    "- Lag1: *percentage returns from previous before*\n",
    "- Volume: *the number of shares traded on the previous day, in billions*"
   ]
  },
  {
   "cell_type": "markdown",
   "id": "2ea6acbe-da49-4c57-b72e-1fe6ef6a4459",
   "metadata": {},
   "source": [
    "First we need to split our data into training and test subsets. "
   ]
  },
  {
   "cell_type": "markdown",
   "id": "eef5abf1-315e-4d4f-bba8-de7b7b552e63",
   "metadata": {},
   "source": [
    "Plot the number of observations per year using a bar chart."
   ]
  },
  {
   "cell_type": "code",
   "execution_count": 5,
   "id": "cc3763aa-0d76-4b14-b681-52ccf76b84de",
   "metadata": {
    "tags": []
   },
   "outputs": [
    {
     "data": {
      "image/png": "[encoded data removed]",
      "text/plain": [
       "plot without title"
      ]
     },
     "metadata": {
      "image/png": {
       "height": 420,
       "width": 420
      }
     },
     "output_type": "display_data"
    }
   ],
   "source": [
    "ggplot(Smarket, aes(y=Year)) + geom_bar()\n",
    "\n"
   ]
  },
  {
   "cell_type": "markdown",
   "id": "029c530e-5c08-4015-9018-456051a5512a",
   "metadata": {},
   "source": [
    "Run the following cell after substituting `PUT_MOST_RECENT_YEAR_HERE` with a value deduced from the chart above. Why is this a sensible way to split our data?"
   ]
  },
  {
   "cell_type": "code",
   "execution_count": 6,
   "id": "1162bde5-4e4f-4ec0-b428-a80c57cb251a",
   "metadata": {
    "tags": []
   },
   "outputs": [],
   "source": [
    "Smarket_train = Smarket |> filter(Year < 2005) #test model from not model derivde data\n",
    "\n",
    "Smarket_test = Smarket |> filter(Year == 2005)"
   ]
  },
  {
   "cell_type": "markdown",
   "id": "3ca72053-b339-409e-812a-a76862c2eb80",
   "metadata": {},
   "source": [
    "Generate a model to predict market direction.\n",
    "- Use the `logistic_reg()` function from `tidymodels` and the \"glm\" engine.\n",
    "- Use the training data from above and call your fitted model `mod_fit`.\n",
    "- Use `Direction ~ Volume + Lag1` as the formula."
   ]
  },
  {
   "cell_type": "code",
   "execution_count": 7,
   "id": "c63d5e1d-1346-4e24-872e-53ca42ab9e97",
   "metadata": {
    "tags": []
   },
   "outputs": [
    {
     "data": {
      "text/html": [
       "<table class=\"dataframe\">\n",
       "<caption>A tibble: 3 × 5</caption>\n",
       "<thead>\n",
       "\t<tr><th scope=col>term</th><th scope=col>estimate</th><th scope=col>std.error</th><th scope=col>statistic</th><th scope=col>p.value</th></tr>\n",
       "\t<tr><th scope=col>&lt;chr&gt;</th><th scope=col>&lt;dbl&gt;</th><th scope=col>&lt;dbl&gt;</th><th scope=col>&lt;dbl&gt;</th><th scope=col>&lt;dbl&gt;</th></tr>\n",
       "</thead>\n",
       "<tbody>\n",
       "\t<tr><td>(Intercept)</td><td> 0.17895928</td><td>0.33084304</td><td> 0.5409190</td><td>0.5885634</td></tr>\n",
       "\t<tr><td>Volume     </td><td>-0.10736808</td><td>0.23747318</td><td>-0.4521272</td><td>0.6511774</td></tr>\n",
       "\t<tr><td>Lag1       </td><td>-0.05332657</td><td>0.05173953</td><td>-1.0306737</td><td>0.3026938</td></tr>\n",
       "</tbody>\n",
       "</table>\n"
      ],
      "text/latex": [
       "A tibble: 3 × 5\n",
       "\\begin{tabular}{lllll}\n",
       " term & estimate & std.error & statistic & p.value\\\\\n",
       " <chr> & <dbl> & <dbl> & <dbl> & <dbl>\\\\\n",
       "\\hline\n",
       "\t (Intercept) &  0.17895928 & 0.33084304 &  0.5409190 & 0.5885634\\\\\n",
       "\t Volume      & -0.10736808 & 0.23747318 & -0.4521272 & 0.6511774\\\\\n",
       "\t Lag1        & -0.05332657 & 0.05173953 & -1.0306737 & 0.3026938\\\\\n",
       "\\end{tabular}\n"
      ],
      "text/markdown": [
       "\n",
       "A tibble: 3 × 5\n",
       "\n",
       "| term &lt;chr&gt; | estimate &lt;dbl&gt; | std.error &lt;dbl&gt; | statistic &lt;dbl&gt; | p.value &lt;dbl&gt; |\n",
       "|---|---|---|---|---|\n",
       "| (Intercept) |  0.17895928 | 0.33084304 |  0.5409190 | 0.5885634 |\n",
       "| Volume      | -0.10736808 | 0.23747318 | -0.4521272 | 0.6511774 |\n",
       "| Lag1        | -0.05332657 | 0.05173953 | -1.0306737 | 0.3026938 |\n",
       "\n"
      ],
      "text/plain": [
       "  term        estimate    std.error  statistic  p.value  \n",
       "1 (Intercept)  0.17895928 0.33084304  0.5409190 0.5885634\n",
       "2 Volume      -0.10736808 0.23747318 -0.4521272 0.6511774\n",
       "3 Lag1        -0.05332657 0.05173953 -1.0306737 0.3026938"
      ]
     },
     "metadata": {},
     "output_type": "display_data"
    }
   ],
   "source": [
    "mod = logistic_reg() |> set_engine('glm') #set up a model and set engine\n",
    "#then you could build a recipe, but ultimately fit a model\n",
    "mod_fit = mod |> fit(Direction ~ Volume + Lag1, data = Smarket_train) #vol and lag1 as predictors\n",
    "mod_fit |> tidy() #makes it clean looking\n",
    "\n"
   ]
  },
  {
   "cell_type": "markdown",
   "id": "1273f3dc-4185-4eaa-a6cf-c9c060649523",
   "metadata": {},
   "source": [
    "Run the following code to predict from your test data and generate a [confusion matrix](https://en.wikipedia.org/wiki/Confusion_matrix). When the market is \"Up\" how often does your model predict the same?"
   ]
  },
  {
   "cell_type": "code",
   "execution_count": 8,
   "id": "e5b6a335-c752-4399-9e85-89fdbcbdb0d1",
   "metadata": {
    "tags": []
   },
   "outputs": [
    {
     "data": {
      "text/html": [
       "<table class=\"dataframe\">\n",
       "<caption>A tibble: 6 × 12</caption>\n",
       "<thead>\n",
       "\t<tr><th scope=col>.pred_class</th><th scope=col>.pred_Down</th><th scope=col>.pred_Up</th><th scope=col>Year</th><th scope=col>Lag1</th><th scope=col>Lag2</th><th scope=col>Lag3</th><th scope=col>Lag4</th><th scope=col>Lag5</th><th scope=col>Volume</th><th scope=col>Today</th><th scope=col>Direction</th></tr>\n",
       "\t<tr><th scope=col>&lt;fct&gt;</th><th scope=col>&lt;dbl&gt;</th><th scope=col>&lt;dbl&gt;</th><th scope=col>&lt;dbl&gt;</th><th scope=col>&lt;dbl&gt;</th><th scope=col>&lt;dbl&gt;</th><th scope=col>&lt;dbl&gt;</th><th scope=col>&lt;dbl&gt;</th><th scope=col>&lt;dbl&gt;</th><th scope=col>&lt;dbl&gt;</th><th scope=col>&lt;dbl&gt;</th><th scope=col>&lt;fct&gt;</th></tr>\n",
       "</thead>\n",
       "<tbody>\n",
       "\t<tr><td>Up  </td><td>0.4746176</td><td>0.5253824</td><td>2005</td><td>-0.134</td><td> 0.008</td><td>-0.007</td><td> 0.715</td><td>-0.431</td><td>0.7869</td><td>-0.812</td><td>Down</td></tr>\n",
       "\t<tr><td>Up  </td><td>0.4849923</td><td>0.5150077</td><td>2005</td><td>-0.812</td><td>-0.134</td><td> 0.008</td><td>-0.007</td><td> 0.715</td><td>1.5108</td><td>-1.167</td><td>Down</td></tr>\n",
       "\t<tr><td>Up  </td><td>0.4859010</td><td>0.5140990</td><td>2005</td><td>-1.167</td><td>-0.812</td><td>-0.134</td><td> 0.008</td><td>-0.007</td><td>1.7210</td><td>-0.363</td><td>Down</td></tr>\n",
       "\t<tr><td>Up  </td><td>0.4970964</td><td>0.5029036</td><td>2005</td><td>-0.363</td><td>-1.167</td><td>-0.812</td><td>-0.134</td><td> 0.008</td><td>1.7389</td><td> 0.351</td><td>Up  </td></tr>\n",
       "\t<tr><td>Down</td><td>0.5020574</td><td>0.4979426</td><td>2005</td><td> 0.351</td><td>-0.363</td><td>-1.167</td><td>-0.812</td><td>-0.134</td><td>1.5691</td><td>-0.143</td><td>Down</td></tr>\n",
       "\t<tr><td>Up  </td><td>0.4930240</td><td>0.5069760</td><td>2005</td><td>-0.143</td><td> 0.351</td><td>-0.363</td><td>-1.167</td><td>-0.812</td><td>1.4779</td><td> 0.342</td><td>Up  </td></tr>\n",
       "</tbody>\n",
       "</table>\n"
      ],
      "text/latex": [
       "A tibble: 6 × 12\n",
       "\\begin{tabular}{llllllllllll}\n",
       " .pred\\_class & .pred\\_Down & .pred\\_Up & Year & Lag1 & Lag2 & Lag3 & Lag4 & Lag5 & Volume & Today & Direction\\\\\n",
       " <fct> & <dbl> & <dbl> & <dbl> & <dbl> & <dbl> & <dbl> & <dbl> & <dbl> & <dbl> & <dbl> & <fct>\\\\\n",
       "\\hline\n",
       "\t Up   & 0.4746176 & 0.5253824 & 2005 & -0.134 &  0.008 & -0.007 &  0.715 & -0.431 & 0.7869 & -0.812 & Down\\\\\n",
       "\t Up   & 0.4849923 & 0.5150077 & 2005 & -0.812 & -0.134 &  0.008 & -0.007 &  0.715 & 1.5108 & -1.167 & Down\\\\\n",
       "\t Up   & 0.4859010 & 0.5140990 & 2005 & -1.167 & -0.812 & -0.134 &  0.008 & -0.007 & 1.7210 & -0.363 & Down\\\\\n",
       "\t Up   & 0.4970964 & 0.5029036 & 2005 & -0.363 & -1.167 & -0.812 & -0.134 &  0.008 & 1.7389 &  0.351 & Up  \\\\\n",
       "\t Down & 0.5020574 & 0.4979426 & 2005 &  0.351 & -0.363 & -1.167 & -0.812 & -0.134 & 1.5691 & -0.143 & Down\\\\\n",
       "\t Up   & 0.4930240 & 0.5069760 & 2005 & -0.143 &  0.351 & -0.363 & -1.167 & -0.812 & 1.4779 &  0.342 & Up  \\\\\n",
       "\\end{tabular}\n"
      ],
      "text/markdown": [
       "\n",
       "A tibble: 6 × 12\n",
       "\n",
       "| .pred_class &lt;fct&gt; | .pred_Down &lt;dbl&gt; | .pred_Up &lt;dbl&gt; | Year &lt;dbl&gt; | Lag1 &lt;dbl&gt; | Lag2 &lt;dbl&gt; | Lag3 &lt;dbl&gt; | Lag4 &lt;dbl&gt; | Lag5 &lt;dbl&gt; | Volume &lt;dbl&gt; | Today &lt;dbl&gt; | Direction &lt;fct&gt; |\n",
       "|---|---|---|---|---|---|---|---|---|---|---|---|\n",
       "| Up   | 0.4746176 | 0.5253824 | 2005 | -0.134 |  0.008 | -0.007 |  0.715 | -0.431 | 0.7869 | -0.812 | Down |\n",
       "| Up   | 0.4849923 | 0.5150077 | 2005 | -0.812 | -0.134 |  0.008 | -0.007 |  0.715 | 1.5108 | -1.167 | Down |\n",
       "| Up   | 0.4859010 | 0.5140990 | 2005 | -1.167 | -0.812 | -0.134 |  0.008 | -0.007 | 1.7210 | -0.363 | Down |\n",
       "| Up   | 0.4970964 | 0.5029036 | 2005 | -0.363 | -1.167 | -0.812 | -0.134 |  0.008 | 1.7389 |  0.351 | Up   |\n",
       "| Down | 0.5020574 | 0.4979426 | 2005 |  0.351 | -0.363 | -1.167 | -0.812 | -0.134 | 1.5691 | -0.143 | Down |\n",
       "| Up   | 0.4930240 | 0.5069760 | 2005 | -0.143 |  0.351 | -0.363 | -1.167 | -0.812 | 1.4779 |  0.342 | Up   |\n",
       "\n"
      ],
      "text/plain": [
       "  .pred_class .pred_Down .pred_Up  Year Lag1   Lag2   Lag3   Lag4   Lag5  \n",
       "1 Up          0.4746176  0.5253824 2005 -0.134  0.008 -0.007  0.715 -0.431\n",
       "2 Up          0.4849923  0.5150077 2005 -0.812 -0.134  0.008 -0.007  0.715\n",
       "3 Up          0.4859010  0.5140990 2005 -1.167 -0.812 -0.134  0.008 -0.007\n",
       "4 Up          0.4970964  0.5029036 2005 -0.363 -1.167 -0.812 -0.134  0.008\n",
       "5 Down        0.5020574  0.4979426 2005  0.351 -0.363 -1.167 -0.812 -0.134\n",
       "6 Up          0.4930240  0.5069760 2005 -0.143  0.351 -0.363 -1.167 -0.812\n",
       "  Volume Today  Direction\n",
       "1 0.7869 -0.812 Down     \n",
       "2 1.5108 -1.167 Down     \n",
       "3 1.7210 -0.363 Down     \n",
       "4 1.7389  0.351 Up       \n",
       "5 1.5691 -0.143 Down     \n",
       "6 1.4779  0.342 Up       "
      ]
     },
     "metadata": {},
     "output_type": "display_data"
    }
   ],
   "source": [
    "augment(mod_fit, Smarket_test) |> head()\n",
    "    #conf_mat(Direction, .pred_class)"
   ]
  },
  {
   "cell_type": "markdown",
   "id": "79c88e08-62a8-4222-96d6-fe638494ed82",
   "metadata": {},
   "source": [
    "Run the following code to calculate the error rate for the model."
   ]
  },
  {
   "cell_type": "code",
   "execution_count": 9,
   "id": "c5a4c6ca-a86e-476a-932e-e7034a070e68",
   "metadata": {
    "tags": []
   },
   "outputs": [
    {
     "data": {
      "text/html": [
       "<table class=\"dataframe\">\n",
       "<caption>A tibble: 252 × 13</caption>\n",
       "<thead>\n",
       "\t<tr><th scope=col>.pred_class</th><th scope=col>.pred_Down</th><th scope=col>.pred_Up</th><th scope=col>Year</th><th scope=col>Lag1</th><th scope=col>Lag2</th><th scope=col>Lag3</th><th scope=col>Lag4</th><th scope=col>Lag5</th><th scope=col>Volume</th><th scope=col>Today</th><th scope=col>Direction</th><th scope=col>model_incorrect</th></tr>\n",
       "\t<tr><th scope=col>&lt;fct&gt;</th><th scope=col>&lt;dbl&gt;</th><th scope=col>&lt;dbl&gt;</th><th scope=col>&lt;dbl&gt;</th><th scope=col>&lt;dbl&gt;</th><th scope=col>&lt;dbl&gt;</th><th scope=col>&lt;dbl&gt;</th><th scope=col>&lt;dbl&gt;</th><th scope=col>&lt;dbl&gt;</th><th scope=col>&lt;dbl&gt;</th><th scope=col>&lt;dbl&gt;</th><th scope=col>&lt;fct&gt;</th><th scope=col>&lt;lgl&gt;</th></tr>\n",
       "</thead>\n",
       "<tbody>\n",
       "\t<tr><td>Up  </td><td>0.4746176</td><td>0.5253824</td><td>2005</td><td>-0.134</td><td> 0.008</td><td>-0.007</td><td> 0.715</td><td>-0.431</td><td>0.78690</td><td>-0.812</td><td>Down</td><td> TRUE</td></tr>\n",
       "\t<tr><td>Up  </td><td>0.4849923</td><td>0.5150077</td><td>2005</td><td>-0.812</td><td>-0.134</td><td> 0.008</td><td>-0.007</td><td> 0.715</td><td>1.51080</td><td>-1.167</td><td>Down</td><td> TRUE</td></tr>\n",
       "\t<tr><td>Up  </td><td>0.4859010</td><td>0.5140990</td><td>2005</td><td>-1.167</td><td>-0.812</td><td>-0.134</td><td> 0.008</td><td>-0.007</td><td>1.72100</td><td>-0.363</td><td>Down</td><td> TRUE</td></tr>\n",
       "\t<tr><td>Up  </td><td>0.4970964</td><td>0.5029036</td><td>2005</td><td>-0.363</td><td>-1.167</td><td>-0.812</td><td>-0.134</td><td> 0.008</td><td>1.73890</td><td> 0.351</td><td>Up  </td><td>FALSE</td></tr>\n",
       "\t<tr><td>Down</td><td>0.5020574</td><td>0.4979426</td><td>2005</td><td> 0.351</td><td>-0.363</td><td>-1.167</td><td>-0.812</td><td>-0.134</td><td>1.56910</td><td>-0.143</td><td>Down</td><td>FALSE</td></tr>\n",
       "\t<tr><td>Up  </td><td>0.4930240</td><td>0.5069760</td><td>2005</td><td>-0.143</td><td> 0.351</td><td>-0.363</td><td>-1.167</td><td>-0.812</td><td>1.47790</td><td> 0.342</td><td>Up  </td><td>FALSE</td></tr>\n",
       "\t<tr><td>Up  </td><td>0.4998249</td><td>0.5001751</td><td>2005</td><td> 0.342</td><td>-0.143</td><td> 0.351</td><td>-0.363</td><td>-1.167</td><td>1.49040</td><td>-0.610</td><td>Down</td><td> TRUE</td></tr>\n",
       "\t<tr><td>Up  </td><td>0.4870931</td><td>0.5129069</td><td>2005</td><td>-0.610</td><td> 0.342</td><td>-0.143</td><td> 0.351</td><td>-0.363</td><td>1.48880</td><td> 0.398</td><td>Up  </td><td>FALSE</td></tr>\n",
       "\t<tr><td>Down</td><td>0.5024961</td><td>0.4975039</td><td>2005</td><td> 0.398</td><td>-0.610</td><td> 0.342</td><td>-0.143</td><td> 0.351</td><td>1.56210</td><td>-0.863</td><td>Down</td><td>FALSE</td></tr>\n",
       "\t<tr><td>Up  </td><td>0.4842996</td><td>0.5157004</td><td>2005</td><td>-0.863</td><td> 0.398</td><td>-0.610</td><td> 0.342</td><td>-0.143</td><td>1.51030</td><td> 0.600</td><td>Up  </td><td>FALSE</td></tr>\n",
       "\t<tr><td>Up  </td><td>0.4991040</td><td>0.5008960</td><td>2005</td><td> 0.600</td><td>-0.863</td><td> 0.398</td><td>-0.610</td><td> 0.342</td><td>1.33540</td><td> 0.967</td><td>Up  </td><td>FALSE</td></tr>\n",
       "\t<tr><td>Down</td><td>0.5110114</td><td>0.4889886</td><td>2005</td><td> 0.967</td><td> 0.600</td><td>-0.863</td><td> 0.398</td><td>-0.610</td><td>1.59680</td><td>-0.949</td><td>Down</td><td>FALSE</td></tr>\n",
       "\t<tr><td>Up  </td><td>0.4828433</td><td>0.5171567</td><td>2005</td><td>-0.949</td><td> 0.967</td><td> 0.600</td><td>-0.863</td><td> 0.398</td><td>1.49870</td><td>-0.778</td><td>Down</td><td> TRUE</td></tr>\n",
       "\t<tr><td>Up  </td><td>0.4903061</td><td>0.5096939</td><td>2005</td><td>-0.778</td><td>-0.949</td><td> 0.967</td><td> 0.600</td><td>-0.863</td><td>1.69200</td><td>-0.641</td><td>Down</td><td> TRUE</td></tr>\n",
       "\t<tr><td>Up  </td><td>0.4908305</td><td>0.5091695</td><td>2005</td><td>-0.641</td><td>-0.778</td><td>-0.949</td><td> 0.967</td><td> 0.600</td><td>1.64350</td><td>-0.353</td><td>Down</td><td> TRUE</td></tr>\n",
       "\t<tr><td>Up  </td><td>0.4906733</td><td>0.5093267</td><td>2005</td><td>-0.353</td><td>-0.641</td><td>-0.778</td><td>-0.949</td><td> 0.967</td><td>1.49460</td><td> 0.400</td><td>Up  </td><td>FALSE</td></tr>\n",
       "\t<tr><td>Down</td><td>0.5038192</td><td>0.4961808</td><td>2005</td><td> 0.400</td><td>-0.353</td><td>-0.641</td><td>-0.778</td><td>-0.949</td><td>1.61040</td><td> 0.484</td><td>Up  </td><td> TRUE</td></tr>\n",
       "\t<tr><td>Down</td><td>0.5056233</td><td>0.4943767</td><td>2005</td><td> 0.484</td><td> 0.400</td><td>-0.353</td><td>-0.641</td><td>-0.778</td><td>1.63590</td><td> 0.041</td><td>Up  </td><td> TRUE</td></tr>\n",
       "\t<tr><td>Up  </td><td>0.4987701</td><td>0.5012299</td><td>2005</td><td> 0.041</td><td> 0.484</td><td> 0.400</td><td>-0.353</td><td>-0.641</td><td>1.60060</td><td>-0.272</td><td>Down</td><td> TRUE</td></tr>\n",
       "\t<tr><td>Up  </td><td>0.4957033</td><td>0.5042967</td><td>2005</td><td>-0.272</td><td> 0.041</td><td> 0.484</td><td> 0.400</td><td>-0.353</td><td>1.64180</td><td> 0.846</td><td>Up  </td><td>FALSE</td></tr>\n",
       "\t<tr><td>Down</td><td>0.5116259</td><td>0.4883741</td><td>2005</td><td> 0.846</td><td>-0.272</td><td> 0.041</td><td> 0.484</td><td> 0.400</td><td>1.67980</td><td> 0.689</td><td>Up  </td><td> TRUE</td></tr>\n",
       "\t<tr><td>Down</td><td>0.5095922</td><td>0.4904078</td><td>2005</td><td> 0.689</td><td> 0.846</td><td>-0.272</td><td> 0.041</td><td> 0.484</td><td>1.68198</td><td> 0.318</td><td>Up  </td><td> TRUE</td></tr>\n",
       "\t<tr><td>Down</td><td>0.5014199</td><td>0.4985801</td><td>2005</td><td> 0.318</td><td> 0.689</td><td> 0.846</td><td>-0.272</td><td> 0.041</td><td>1.56174</td><td>-0.277</td><td>Down</td><td>FALSE</td></tr>\n",
       "\t<tr><td>Up  </td><td>0.4932926</td><td>0.5067074</td><td>2005</td><td>-0.277</td><td> 0.318</td><td> 0.689</td><td> 0.846</td><td>-0.272</td><td>1.55446</td><td> 1.104</td><td>Up  </td><td>FALSE</td></tr>\n",
       "\t<tr><td>Down</td><td>0.5142144</td><td>0.4857856</td><td>2005</td><td> 1.104</td><td>-0.277</td><td> 0.318</td><td> 0.689</td><td> 0.846</td><td>1.64816</td><td>-0.109</td><td>Down</td><td>FALSE</td></tr>\n",
       "\t<tr><td>Up  </td><td>0.4899718</td><td>0.5100282</td><td>2005</td><td>-0.109</td><td> 1.104</td><td>-0.277</td><td> 0.318</td><td> 0.689</td><td>1.34727</td><td> 0.048</td><td>Up  </td><td>FALSE</td></tr>\n",
       "\t<tr><td>Up  </td><td>0.4939133</td><td>0.5060867</td><td>2005</td><td> 0.048</td><td>-0.109</td><td> 1.104</td><td>-0.277</td><td> 0.318</td><td>1.41617</td><td>-0.858</td><td>Down</td><td> TRUE</td></tr>\n",
       "\t<tr><td>Up  </td><td>0.4843861</td><td>0.5156139</td><td>2005</td><td>-0.858</td><td> 0.048</td><td>-0.109</td><td> 1.104</td><td>-0.277</td><td>1.51104</td><td> 0.421</td><td>Up  </td><td>FALSE</td></tr>\n",
       "\t<tr><td>Down</td><td>0.5009122</td><td>0.4990878</td><td>2005</td><td> 0.421</td><td>-0.858</td><td> 0.048</td><td>-0.109</td><td> 1.104</td><td>1.49167</td><td> 0.693</td><td>Up  </td><td> TRUE</td></tr>\n",
       "\t<tr><td>Down</td><td>0.5064339</td><td>0.4935661</td><td>2005</td><td> 0.693</td><td> 0.421</td><td>-0.858</td><td> 0.048</td><td>-0.109</td><td>1.56230</td><td> 0.070</td><td>Up  </td><td> TRUE</td></tr>\n",
       "\t<tr><td>⋮</td><td>⋮</td><td>⋮</td><td>⋮</td><td>⋮</td><td>⋮</td><td>⋮</td><td>⋮</td><td>⋮</td><td>⋮</td><td>⋮</td><td>⋮</td><td>⋮</td></tr>\n",
       "\t<tr><td>Down</td><td>0.5145899</td><td>0.4854101</td><td>2005</td><td> 0.179</td><td>-0.385</td><td>-0.078</td><td> 0.305</td><td> 0.845</td><td>2.12158</td><td> 0.941</td><td>Up  </td><td> TRUE</td></tr>\n",
       "\t<tr><td>Down</td><td>0.5294551</td><td>0.4705449</td><td>2005</td><td> 0.941</td><td> 0.179</td><td>-0.385</td><td>-0.078</td><td> 0.305</td><td>2.29804</td><td> 0.440</td><td>Up  </td><td> TRUE</td></tr>\n",
       "\t<tr><td>Down</td><td>0.5269512</td><td>0.4730488</td><td>2005</td><td> 0.440</td><td> 0.941</td><td> 0.179</td><td>-0.385</td><td>-0.078</td><td>2.45329</td><td> 0.527</td><td>Up  </td><td> TRUE</td></tr>\n",
       "\t<tr><td>Down</td><td>0.5191106</td><td>0.4808894</td><td>2005</td><td> 0.527</td><td> 0.440</td><td> 0.941</td><td> 0.179</td><td>-0.385</td><td>2.11735</td><td> 0.508</td><td>Up  </td><td> TRUE</td></tr>\n",
       "\t<tr><td>Down</td><td>0.5235216</td><td>0.4764784</td><td>2005</td><td> 0.508</td><td> 0.527</td><td> 0.440</td><td> 0.941</td><td> 0.179</td><td>2.29142</td><td> 0.347</td><td>Up  </td><td> TRUE</td></tr>\n",
       "\t<tr><td>Down</td><td>0.5131754</td><td>0.4868246</td><td>2005</td><td> 0.347</td><td> 0.508</td><td> 0.527</td><td> 0.440</td><td> 0.941</td><td>1.98540</td><td> 0.209</td><td>Up  </td><td> TRUE</td></tr>\n",
       "\t<tr><td>Up  </td><td>0.4775205</td><td>0.5224795</td><td>2005</td><td> 0.209</td><td> 0.347</td><td> 0.508</td><td> 0.527</td><td> 0.440</td><td>0.72494</td><td>-0.851</td><td>Down</td><td> TRUE</td></tr>\n",
       "\t<tr><td>Up  </td><td>0.4980526</td><td>0.5019474</td><td>2005</td><td>-0.851</td><td> 0.209</td><td> 0.347</td><td> 0.508</td><td> 0.527</td><td>2.01690</td><td> 0.002</td><td>Up  </td><td>FALSE</td></tr>\n",
       "\t<tr><td>Down</td><td>0.5161680</td><td>0.4838320</td><td>2005</td><td> 0.002</td><td>-0.851</td><td> 0.209</td><td> 0.347</td><td> 0.508</td><td>2.26834</td><td>-0.636</td><td>Down</td><td>FALSE</td></tr>\n",
       "\t<tr><td>Down</td><td>0.5105212</td><td>0.4894788</td><td>2005</td><td>-0.636</td><td> 0.002</td><td>-0.851</td><td> 0.209</td><td> 0.347</td><td>2.37469</td><td> 1.216</td><td>Up  </td><td> TRUE</td></tr>\n",
       "\t<tr><td>Down</td><td>0.5415626</td><td>0.4584374</td><td>2005</td><td> 1.216</td><td>-0.636</td><td> 0.002</td><td>-0.851</td><td> 0.209</td><td>2.61483</td><td> 0.032</td><td>Up  </td><td> TRUE</td></tr>\n",
       "\t<tr><td>Down</td><td>0.5127389</td><td>0.4872611</td><td>2005</td><td> 0.032</td><td> 1.216</td><td>-0.636</td><td> 0.002</td><td>-0.851</td><td>2.12558</td><td>-0.236</td><td>Down</td><td>FALSE</td></tr>\n",
       "\t<tr><td>Down</td><td>0.5145401</td><td>0.4854599</td><td>2005</td><td>-0.236</td><td> 0.032</td><td> 1.216</td><td>-0.636</td><td> 0.002</td><td>2.32584</td><td> 0.128</td><td>Up  </td><td> TRUE</td></tr>\n",
       "\t<tr><td>Down</td><td>0.5136198</td><td>0.4863802</td><td>2005</td><td> 0.128</td><td>-0.236</td><td> 0.032</td><td> 1.216</td><td>-0.636</td><td>2.11074</td><td>-0.501</td><td>Down</td><td>FALSE</td></tr>\n",
       "\t<tr><td>Down</td><td>0.5047835</td><td>0.4952165</td><td>2005</td><td>-0.501</td><td> 0.128</td><td>-0.236</td><td> 0.032</td><td> 1.216</td><td>2.09383</td><td>-0.122</td><td>Down</td><td>FALSE</td></tr>\n",
       "\t<tr><td>Down</td><td>0.5121013</td><td>0.4878987</td><td>2005</td><td>-0.122</td><td>-0.501</td><td> 0.128</td><td>-0.236</td><td> 0.032</td><td>2.17830</td><td> 0.281</td><td>Up  </td><td> TRUE</td></tr>\n",
       "\t<tr><td>Down</td><td>0.5099053</td><td>0.4900947</td><td>2005</td><td> 0.281</td><td>-0.122</td><td>-0.501</td><td> 0.128</td><td>-0.236</td><td>1.89629</td><td> 0.084</td><td>Up  </td><td> TRUE</td></tr>\n",
       "\t<tr><td>Down</td><td>0.5067500</td><td>0.4932500</td><td>2005</td><td> 0.084</td><td> 0.281</td><td>-0.122</td><td>-0.501</td><td> 0.128</td><td>1.87655</td><td> 0.555</td><td>Up  </td><td> TRUE</td></tr>\n",
       "\t<tr><td>Down</td><td>0.5267865</td><td>0.4732135</td><td>2005</td><td> 0.555</td><td> 0.084</td><td> 0.281</td><td>-0.122</td><td>-0.501</td><td>2.39002</td><td> 0.419</td><td>Up  </td><td> TRUE</td></tr>\n",
       "\t<tr><td>Down</td><td>0.5184279</td><td>0.4815721</td><td>2005</td><td> 0.419</td><td> 0.555</td><td> 0.084</td><td> 0.281</td><td>-0.122</td><td>2.14552</td><td>-0.141</td><td>Down</td><td>FALSE</td></tr>\n",
       "\t<tr><td>Down</td><td>0.5119096</td><td>0.4880904</td><td>2005</td><td>-0.141</td><td> 0.419</td><td> 0.555</td><td> 0.084</td><td> 0.281</td><td>2.18059</td><td>-0.285</td><td>Down</td><td>FALSE</td></tr>\n",
       "\t<tr><td>Down</td><td>0.5208135</td><td>0.4791865</td><td>2005</td><td>-0.285</td><td>-0.141</td><td> 0.419</td><td> 0.555</td><td> 0.084</td><td>2.58419</td><td>-0.584</td><td>Down</td><td>FALSE</td></tr>\n",
       "\t<tr><td>Down</td><td>0.5067630</td><td>0.4932370</td><td>2005</td><td>-0.584</td><td>-0.285</td><td>-0.141</td><td> 0.419</td><td> 0.555</td><td>2.20881</td><td>-0.024</td><td>Down</td><td>FALSE</td></tr>\n",
       "\t<tr><td>Down</td><td>0.5085346</td><td>0.4914654</td><td>2005</td><td>-0.024</td><td>-0.584</td><td>-0.285</td><td>-0.141</td><td> 0.419</td><td>1.99669</td><td> 0.252</td><td>Up  </td><td> TRUE</td></tr>\n",
       "\t<tr><td>Down</td><td>0.5140494</td><td>0.4859506</td><td>2005</td><td> 0.252</td><td>-0.024</td><td>-0.584</td><td>-0.285</td><td>-0.141</td><td>2.06517</td><td> 0.422</td><td>Up  </td><td> TRUE</td></tr>\n",
       "\t<tr><td>Down</td><td>0.5115752</td><td>0.4884248</td><td>2005</td><td> 0.422</td><td> 0.252</td><td>-0.024</td><td>-0.584</td><td>-0.285</td><td>1.88850</td><td> 0.043</td><td>Up  </td><td> TRUE</td></tr>\n",
       "\t<tr><td>Up  </td><td>0.4903484</td><td>0.5096516</td><td>2005</td><td> 0.043</td><td> 0.422</td><td> 0.252</td><td>-0.024</td><td>-0.584</td><td>1.28581</td><td>-0.955</td><td>Down</td><td> TRUE</td></tr>\n",
       "\t<tr><td>Up  </td><td>0.4838834</td><td>0.5161166</td><td>2005</td><td>-0.955</td><td> 0.043</td><td> 0.422</td><td> 0.252</td><td>-0.024</td><td>1.54047</td><td> 0.130</td><td>Up  </td><td>FALSE</td></tr>\n",
       "\t<tr><td>Up  </td><td>0.4951725</td><td>0.5048275</td><td>2005</td><td> 0.130</td><td>-0.955</td><td> 0.043</td><td> 0.422</td><td> 0.252</td><td>1.42236</td><td>-0.298</td><td>Down</td><td> TRUE</td></tr>\n",
       "\t<tr><td>Up  </td><td>0.4883996</td><td>0.5116004</td><td>2005</td><td>-0.298</td><td> 0.130</td><td>-0.955</td><td> 0.043</td><td> 0.422</td><td>1.38254</td><td>-0.489</td><td>Down</td><td> TRUE</td></tr>\n",
       "</tbody>\n",
       "</table>\n"
      ],
      "text/latex": [
       "A tibble: 252 × 13\n",
       "\\begin{tabular}{lllllllllllll}\n",
       " .pred\\_class & .pred\\_Down & .pred\\_Up & Year & Lag1 & Lag2 & Lag3 & Lag4 & Lag5 & Volume & Today & Direction & model\\_incorrect\\\\\n",
       " <fct> & <dbl> & <dbl> & <dbl> & <dbl> & <dbl> & <dbl> & <dbl> & <dbl> & <dbl> & <dbl> & <fct> & <lgl>\\\\\n",
       "\\hline\n",
       "\t Up   & 0.4746176 & 0.5253824 & 2005 & -0.134 &  0.008 & -0.007 &  0.715 & -0.431 & 0.78690 & -0.812 & Down &  TRUE\\\\\n",
       "\t Up   & 0.4849923 & 0.5150077 & 2005 & -0.812 & -0.134 &  0.008 & -0.007 &  0.715 & 1.51080 & -1.167 & Down &  TRUE\\\\\n",
       "\t Up   & 0.4859010 & 0.5140990 & 2005 & -1.167 & -0.812 & -0.134 &  0.008 & -0.007 & 1.72100 & -0.363 & Down &  TRUE\\\\\n",
       "\t Up   & 0.4970964 & 0.5029036 & 2005 & -0.363 & -1.167 & -0.812 & -0.134 &  0.008 & 1.73890 &  0.351 & Up   & FALSE\\\\\n",
       "\t Down & 0.5020574 & 0.4979426 & 2005 &  0.351 & -0.363 & -1.167 & -0.812 & -0.134 & 1.56910 & -0.143 & Down & FALSE\\\\\n",
       "\t Up   & 0.4930240 & 0.5069760 & 2005 & -0.143 &  0.351 & -0.363 & -1.167 & -0.812 & 1.47790 &  0.342 & Up   & FALSE\\\\\n",
       "\t Up   & 0.4998249 & 0.5001751 & 2005 &  0.342 & -0.143 &  0.351 & -0.363 & -1.167 & 1.49040 & -0.610 & Down &  TRUE\\\\\n",
       "\t Up   & 0.4870931 & 0.5129069 & 2005 & -0.610 &  0.342 & -0.143 &  0.351 & -0.363 & 1.48880 &  0.398 & Up   & FALSE\\\\\n",
       "\t Down & 0.5024961 & 0.4975039 & 2005 &  0.398 & -0.610 &  0.342 & -0.143 &  0.351 & 1.56210 & -0.863 & Down & FALSE\\\\\n",
       "\t Up   & 0.4842996 & 0.5157004 & 2005 & -0.863 &  0.398 & -0.610 &  0.342 & -0.143 & 1.51030 &  0.600 & Up   & FALSE\\\\\n",
       "\t Up   & 0.4991040 & 0.5008960 & 2005 &  0.600 & -0.863 &  0.398 & -0.610 &  0.342 & 1.33540 &  0.967 & Up   & FALSE\\\\\n",
       "\t Down & 0.5110114 & 0.4889886 & 2005 &  0.967 &  0.600 & -0.863 &  0.398 & -0.610 & 1.59680 & -0.949 & Down & FALSE\\\\\n",
       "\t Up   & 0.4828433 & 0.5171567 & 2005 & -0.949 &  0.967 &  0.600 & -0.863 &  0.398 & 1.49870 & -0.778 & Down &  TRUE\\\\\n",
       "\t Up   & 0.4903061 & 0.5096939 & 2005 & -0.778 & -0.949 &  0.967 &  0.600 & -0.863 & 1.69200 & -0.641 & Down &  TRUE\\\\\n",
       "\t Up   & 0.4908305 & 0.5091695 & 2005 & -0.641 & -0.778 & -0.949 &  0.967 &  0.600 & 1.64350 & -0.353 & Down &  TRUE\\\\\n",
       "\t Up   & 0.4906733 & 0.5093267 & 2005 & -0.353 & -0.641 & -0.778 & -0.949 &  0.967 & 1.49460 &  0.400 & Up   & FALSE\\\\\n",
       "\t Down & 0.5038192 & 0.4961808 & 2005 &  0.400 & -0.353 & -0.641 & -0.778 & -0.949 & 1.61040 &  0.484 & Up   &  TRUE\\\\\n",
       "\t Down & 0.5056233 & 0.4943767 & 2005 &  0.484 &  0.400 & -0.353 & -0.641 & -0.778 & 1.63590 &  0.041 & Up   &  TRUE\\\\\n",
       "\t Up   & 0.4987701 & 0.5012299 & 2005 &  0.041 &  0.484 &  0.400 & -0.353 & -0.641 & 1.60060 & -0.272 & Down &  TRUE\\\\\n",
       "\t Up   & 0.4957033 & 0.5042967 & 2005 & -0.272 &  0.041 &  0.484 &  0.400 & -0.353 & 1.64180 &  0.846 & Up   & FALSE\\\\\n",
       "\t Down & 0.5116259 & 0.4883741 & 2005 &  0.846 & -0.272 &  0.041 &  0.484 &  0.400 & 1.67980 &  0.689 & Up   &  TRUE\\\\\n",
       "\t Down & 0.5095922 & 0.4904078 & 2005 &  0.689 &  0.846 & -0.272 &  0.041 &  0.484 & 1.68198 &  0.318 & Up   &  TRUE\\\\\n",
       "\t Down & 0.5014199 & 0.4985801 & 2005 &  0.318 &  0.689 &  0.846 & -0.272 &  0.041 & 1.56174 & -0.277 & Down & FALSE\\\\\n",
       "\t Up   & 0.4932926 & 0.5067074 & 2005 & -0.277 &  0.318 &  0.689 &  0.846 & -0.272 & 1.55446 &  1.104 & Up   & FALSE\\\\\n",
       "\t Down & 0.5142144 & 0.4857856 & 2005 &  1.104 & -0.277 &  0.318 &  0.689 &  0.846 & 1.64816 & -0.109 & Down & FALSE\\\\\n",
       "\t Up   & 0.4899718 & 0.5100282 & 2005 & -0.109 &  1.104 & -0.277 &  0.318 &  0.689 & 1.34727 &  0.048 & Up   & FALSE\\\\\n",
       "\t Up   & 0.4939133 & 0.5060867 & 2005 &  0.048 & -0.109 &  1.104 & -0.277 &  0.318 & 1.41617 & -0.858 & Down &  TRUE\\\\\n",
       "\t Up   & 0.4843861 & 0.5156139 & 2005 & -0.858 &  0.048 & -0.109 &  1.104 & -0.277 & 1.51104 &  0.421 & Up   & FALSE\\\\\n",
       "\t Down & 0.5009122 & 0.4990878 & 2005 &  0.421 & -0.858 &  0.048 & -0.109 &  1.104 & 1.49167 &  0.693 & Up   &  TRUE\\\\\n",
       "\t Down & 0.5064339 & 0.4935661 & 2005 &  0.693 &  0.421 & -0.858 &  0.048 & -0.109 & 1.56230 &  0.070 & Up   &  TRUE\\\\\n",
       "\t ⋮ & ⋮ & ⋮ & ⋮ & ⋮ & ⋮ & ⋮ & ⋮ & ⋮ & ⋮ & ⋮ & ⋮ & ⋮\\\\\n",
       "\t Down & 0.5145899 & 0.4854101 & 2005 &  0.179 & -0.385 & -0.078 &  0.305 &  0.845 & 2.12158 &  0.941 & Up   &  TRUE\\\\\n",
       "\t Down & 0.5294551 & 0.4705449 & 2005 &  0.941 &  0.179 & -0.385 & -0.078 &  0.305 & 2.29804 &  0.440 & Up   &  TRUE\\\\\n",
       "\t Down & 0.5269512 & 0.4730488 & 2005 &  0.440 &  0.941 &  0.179 & -0.385 & -0.078 & 2.45329 &  0.527 & Up   &  TRUE\\\\\n",
       "\t Down & 0.5191106 & 0.4808894 & 2005 &  0.527 &  0.440 &  0.941 &  0.179 & -0.385 & 2.11735 &  0.508 & Up   &  TRUE\\\\\n",
       "\t Down & 0.5235216 & 0.4764784 & 2005 &  0.508 &  0.527 &  0.440 &  0.941 &  0.179 & 2.29142 &  0.347 & Up   &  TRUE\\\\\n",
       "\t Down & 0.5131754 & 0.4868246 & 2005 &  0.347 &  0.508 &  0.527 &  0.440 &  0.941 & 1.98540 &  0.209 & Up   &  TRUE\\\\\n",
       "\t Up   & 0.4775205 & 0.5224795 & 2005 &  0.209 &  0.347 &  0.508 &  0.527 &  0.440 & 0.72494 & -0.851 & Down &  TRUE\\\\\n",
       "\t Up   & 0.4980526 & 0.5019474 & 2005 & -0.851 &  0.209 &  0.347 &  0.508 &  0.527 & 2.01690 &  0.002 & Up   & FALSE\\\\\n",
       "\t Down & 0.5161680 & 0.4838320 & 2005 &  0.002 & -0.851 &  0.209 &  0.347 &  0.508 & 2.26834 & -0.636 & Down & FALSE\\\\\n",
       "\t Down & 0.5105212 & 0.4894788 & 2005 & -0.636 &  0.002 & -0.851 &  0.209 &  0.347 & 2.37469 &  1.216 & Up   &  TRUE\\\\\n",
       "\t Down & 0.5415626 & 0.4584374 & 2005 &  1.216 & -0.636 &  0.002 & -0.851 &  0.209 & 2.61483 &  0.032 & Up   &  TRUE\\\\\n",
       "\t Down & 0.5127389 & 0.4872611 & 2005 &  0.032 &  1.216 & -0.636 &  0.002 & -0.851 & 2.12558 & -0.236 & Down & FALSE\\\\\n",
       "\t Down & 0.5145401 & 0.4854599 & 2005 & -0.236 &  0.032 &  1.216 & -0.636 &  0.002 & 2.32584 &  0.128 & Up   &  TRUE\\\\\n",
       "\t Down & 0.5136198 & 0.4863802 & 2005 &  0.128 & -0.236 &  0.032 &  1.216 & -0.636 & 2.11074 & -0.501 & Down & FALSE\\\\\n",
       "\t Down & 0.5047835 & 0.4952165 & 2005 & -0.501 &  0.128 & -0.236 &  0.032 &  1.216 & 2.09383 & -0.122 & Down & FALSE\\\\\n",
       "\t Down & 0.5121013 & 0.4878987 & 2005 & -0.122 & -0.501 &  0.128 & -0.236 &  0.032 & 2.17830 &  0.281 & Up   &  TRUE\\\\\n",
       "\t Down & 0.5099053 & 0.4900947 & 2005 &  0.281 & -0.122 & -0.501 &  0.128 & -0.236 & 1.89629 &  0.084 & Up   &  TRUE\\\\\n",
       "\t Down & 0.5067500 & 0.4932500 & 2005 &  0.084 &  0.281 & -0.122 & -0.501 &  0.128 & 1.87655 &  0.555 & Up   &  TRUE\\\\\n",
       "\t Down & 0.5267865 & 0.4732135 & 2005 &  0.555 &  0.084 &  0.281 & -0.122 & -0.501 & 2.39002 &  0.419 & Up   &  TRUE\\\\\n",
       "\t Down & 0.5184279 & 0.4815721 & 2005 &  0.419 &  0.555 &  0.084 &  0.281 & -0.122 & 2.14552 & -0.141 & Down & FALSE\\\\\n",
       "\t Down & 0.5119096 & 0.4880904 & 2005 & -0.141 &  0.419 &  0.555 &  0.084 &  0.281 & 2.18059 & -0.285 & Down & FALSE\\\\\n",
       "\t Down & 0.5208135 & 0.4791865 & 2005 & -0.285 & -0.141 &  0.419 &  0.555 &  0.084 & 2.58419 & -0.584 & Down & FALSE\\\\\n",
       "\t Down & 0.5067630 & 0.4932370 & 2005 & -0.584 & -0.285 & -0.141 &  0.419 &  0.555 & 2.20881 & -0.024 & Down & FALSE\\\\\n",
       "\t Down & 0.5085346 & 0.4914654 & 2005 & -0.024 & -0.584 & -0.285 & -0.141 &  0.419 & 1.99669 &  0.252 & Up   &  TRUE\\\\\n",
       "\t Down & 0.5140494 & 0.4859506 & 2005 &  0.252 & -0.024 & -0.584 & -0.285 & -0.141 & 2.06517 &  0.422 & Up   &  TRUE\\\\\n",
       "\t Down & 0.5115752 & 0.4884248 & 2005 &  0.422 &  0.252 & -0.024 & -0.584 & -0.285 & 1.88850 &  0.043 & Up   &  TRUE\\\\\n",
       "\t Up   & 0.4903484 & 0.5096516 & 2005 &  0.043 &  0.422 &  0.252 & -0.024 & -0.584 & 1.28581 & -0.955 & Down &  TRUE\\\\\n",
       "\t Up   & 0.4838834 & 0.5161166 & 2005 & -0.955 &  0.043 &  0.422 &  0.252 & -0.024 & 1.54047 &  0.130 & Up   & FALSE\\\\\n",
       "\t Up   & 0.4951725 & 0.5048275 & 2005 &  0.130 & -0.955 &  0.043 &  0.422 &  0.252 & 1.42236 & -0.298 & Down &  TRUE\\\\\n",
       "\t Up   & 0.4883996 & 0.5116004 & 2005 & -0.298 &  0.130 & -0.955 &  0.043 &  0.422 & 1.38254 & -0.489 & Down &  TRUE\\\\\n",
       "\\end{tabular}\n"
      ],
      "text/markdown": [
       "\n",
       "A tibble: 252 × 13\n",
       "\n",
       "| .pred_class &lt;fct&gt; | .pred_Down &lt;dbl&gt; | .pred_Up &lt;dbl&gt; | Year &lt;dbl&gt; | Lag1 &lt;dbl&gt; | Lag2 &lt;dbl&gt; | Lag3 &lt;dbl&gt; | Lag4 &lt;dbl&gt; | Lag5 &lt;dbl&gt; | Volume &lt;dbl&gt; | Today &lt;dbl&gt; | Direction &lt;fct&gt; | model_incorrect &lt;lgl&gt; |\n",
       "|---|---|---|---|---|---|---|---|---|---|---|---|---|\n",
       "| Up   | 0.4746176 | 0.5253824 | 2005 | -0.134 |  0.008 | -0.007 |  0.715 | -0.431 | 0.78690 | -0.812 | Down |  TRUE |\n",
       "| Up   | 0.4849923 | 0.5150077 | 2005 | -0.812 | -0.134 |  0.008 | -0.007 |  0.715 | 1.51080 | -1.167 | Down |  TRUE |\n",
       "| Up   | 0.4859010 | 0.5140990 | 2005 | -1.167 | -0.812 | -0.134 |  0.008 | -0.007 | 1.72100 | -0.363 | Down |  TRUE |\n",
       "| Up   | 0.4970964 | 0.5029036 | 2005 | -0.363 | -1.167 | -0.812 | -0.134 |  0.008 | 1.73890 |  0.351 | Up   | FALSE |\n",
       "| Down | 0.5020574 | 0.4979426 | 2005 |  0.351 | -0.363 | -1.167 | -0.812 | -0.134 | 1.56910 | -0.143 | Down | FALSE |\n",
       "| Up   | 0.4930240 | 0.5069760 | 2005 | -0.143 |  0.351 | -0.363 | -1.167 | -0.812 | 1.47790 |  0.342 | Up   | FALSE |\n",
       "| Up   | 0.4998249 | 0.5001751 | 2005 |  0.342 | -0.143 |  0.351 | -0.363 | -1.167 | 1.49040 | -0.610 | Down |  TRUE |\n",
       "| Up   | 0.4870931 | 0.5129069 | 2005 | -0.610 |  0.342 | -0.143 |  0.351 | -0.363 | 1.48880 |  0.398 | Up   | FALSE |\n",
       "| Down | 0.5024961 | 0.4975039 | 2005 |  0.398 | -0.610 |  0.342 | -0.143 |  0.351 | 1.56210 | -0.863 | Down | FALSE |\n",
       "| Up   | 0.4842996 | 0.5157004 | 2005 | -0.863 |  0.398 | -0.610 |  0.342 | -0.143 | 1.51030 |  0.600 | Up   | FALSE |\n",
       "| Up   | 0.4991040 | 0.5008960 | 2005 |  0.600 | -0.863 |  0.398 | -0.610 |  0.342 | 1.33540 |  0.967 | Up   | FALSE |\n",
       "| Down | 0.5110114 | 0.4889886 | 2005 |  0.967 |  0.600 | -0.863 |  0.398 | -0.610 | 1.59680 | -0.949 | Down | FALSE |\n",
       "| Up   | 0.4828433 | 0.5171567 | 2005 | -0.949 |  0.967 |  0.600 | -0.863 |  0.398 | 1.49870 | -0.778 | Down |  TRUE |\n",
       "| Up   | 0.4903061 | 0.5096939 | 2005 | -0.778 | -0.949 |  0.967 |  0.600 | -0.863 | 1.69200 | -0.641 | Down |  TRUE |\n",
       "| Up   | 0.4908305 | 0.5091695 | 2005 | -0.641 | -0.778 | -0.949 |  0.967 |  0.600 | 1.64350 | -0.353 | Down |  TRUE |\n",
       "| Up   | 0.4906733 | 0.5093267 | 2005 | -0.353 | -0.641 | -0.778 | -0.949 |  0.967 | 1.49460 |  0.400 | Up   | FALSE |\n",
       "| Down | 0.5038192 | 0.4961808 | 2005 |  0.400 | -0.353 | -0.641 | -0.778 | -0.949 | 1.61040 |  0.484 | Up   |  TRUE |\n",
       "| Down | 0.5056233 | 0.4943767 | 2005 |  0.484 |  0.400 | -0.353 | -0.641 | -0.778 | 1.63590 |  0.041 | Up   |  TRUE |\n",
       "| Up   | 0.4987701 | 0.5012299 | 2005 |  0.041 |  0.484 |  0.400 | -0.353 | -0.641 | 1.60060 | -0.272 | Down |  TRUE |\n",
       "| Up   | 0.4957033 | 0.5042967 | 2005 | -0.272 |  0.041 |  0.484 |  0.400 | -0.353 | 1.64180 |  0.846 | Up   | FALSE |\n",
       "| Down | 0.5116259 | 0.4883741 | 2005 |  0.846 | -0.272 |  0.041 |  0.484 |  0.400 | 1.67980 |  0.689 | Up   |  TRUE |\n",
       "| Down | 0.5095922 | 0.4904078 | 2005 |  0.689 |  0.846 | -0.272 |  0.041 |  0.484 | 1.68198 |  0.318 | Up   |  TRUE |\n",
       "| Down | 0.5014199 | 0.4985801 | 2005 |  0.318 |  0.689 |  0.846 | -0.272 |  0.041 | 1.56174 | -0.277 | Down | FALSE |\n",
       "| Up   | 0.4932926 | 0.5067074 | 2005 | -0.277 |  0.318 |  0.689 |  0.846 | -0.272 | 1.55446 |  1.104 | Up   | FALSE |\n",
       "| Down | 0.5142144 | 0.4857856 | 2005 |  1.104 | -0.277 |  0.318 |  0.689 |  0.846 | 1.64816 | -0.109 | Down | FALSE |\n",
       "| Up   | 0.4899718 | 0.5100282 | 2005 | -0.109 |  1.104 | -0.277 |  0.318 |  0.689 | 1.34727 |  0.048 | Up   | FALSE |\n",
       "| Up   | 0.4939133 | 0.5060867 | 2005 |  0.048 | -0.109 |  1.104 | -0.277 |  0.318 | 1.41617 | -0.858 | Down |  TRUE |\n",
       "| Up   | 0.4843861 | 0.5156139 | 2005 | -0.858 |  0.048 | -0.109 |  1.104 | -0.277 | 1.51104 |  0.421 | Up   | FALSE |\n",
       "| Down | 0.5009122 | 0.4990878 | 2005 |  0.421 | -0.858 |  0.048 | -0.109 |  1.104 | 1.49167 |  0.693 | Up   |  TRUE |\n",
       "| Down | 0.5064339 | 0.4935661 | 2005 |  0.693 |  0.421 | -0.858 |  0.048 | -0.109 | 1.56230 |  0.070 | Up   |  TRUE |\n",
       "| ⋮ | ⋮ | ⋮ | ⋮ | ⋮ | ⋮ | ⋮ | ⋮ | ⋮ | ⋮ | ⋮ | ⋮ | ⋮ |\n",
       "| Down | 0.5145899 | 0.4854101 | 2005 |  0.179 | -0.385 | -0.078 |  0.305 |  0.845 | 2.12158 |  0.941 | Up   |  TRUE |\n",
       "| Down | 0.5294551 | 0.4705449 | 2005 |  0.941 |  0.179 | -0.385 | -0.078 |  0.305 | 2.29804 |  0.440 | Up   |  TRUE |\n",
       "| Down | 0.5269512 | 0.4730488 | 2005 |  0.440 |  0.941 |  0.179 | -0.385 | -0.078 | 2.45329 |  0.527 | Up   |  TRUE |\n",
       "| Down | 0.5191106 | 0.4808894 | 2005 |  0.527 |  0.440 |  0.941 |  0.179 | -0.385 | 2.11735 |  0.508 | Up   |  TRUE |\n",
       "| Down | 0.5235216 | 0.4764784 | 2005 |  0.508 |  0.527 |  0.440 |  0.941 |  0.179 | 2.29142 |  0.347 | Up   |  TRUE |\n",
       "| Down | 0.5131754 | 0.4868246 | 2005 |  0.347 |  0.508 |  0.527 |  0.440 |  0.941 | 1.98540 |  0.209 | Up   |  TRUE |\n",
       "| Up   | 0.4775205 | 0.5224795 | 2005 |  0.209 |  0.347 |  0.508 |  0.527 |  0.440 | 0.72494 | -0.851 | Down |  TRUE |\n",
       "| Up   | 0.4980526 | 0.5019474 | 2005 | -0.851 |  0.209 |  0.347 |  0.508 |  0.527 | 2.01690 |  0.002 | Up   | FALSE |\n",
       "| Down | 0.5161680 | 0.4838320 | 2005 |  0.002 | -0.851 |  0.209 |  0.347 |  0.508 | 2.26834 | -0.636 | Down | FALSE |\n",
       "| Down | 0.5105212 | 0.4894788 | 2005 | -0.636 |  0.002 | -0.851 |  0.209 |  0.347 | 2.37469 |  1.216 | Up   |  TRUE |\n",
       "| Down | 0.5415626 | 0.4584374 | 2005 |  1.216 | -0.636 |  0.002 | -0.851 |  0.209 | 2.61483 |  0.032 | Up   |  TRUE |\n",
       "| Down | 0.5127389 | 0.4872611 | 2005 |  0.032 |  1.216 | -0.636 |  0.002 | -0.851 | 2.12558 | -0.236 | Down | FALSE |\n",
       "| Down | 0.5145401 | 0.4854599 | 2005 | -0.236 |  0.032 |  1.216 | -0.636 |  0.002 | 2.32584 |  0.128 | Up   |  TRUE |\n",
       "| Down | 0.5136198 | 0.4863802 | 2005 |  0.128 | -0.236 |  0.032 |  1.216 | -0.636 | 2.11074 | -0.501 | Down | FALSE |\n",
       "| Down | 0.5047835 | 0.4952165 | 2005 | -0.501 |  0.128 | -0.236 |  0.032 |  1.216 | 2.09383 | -0.122 | Down | FALSE |\n",
       "| Down | 0.5121013 | 0.4878987 | 2005 | -0.122 | -0.501 |  0.128 | -0.236 |  0.032 | 2.17830 |  0.281 | Up   |  TRUE |\n",
       "| Down | 0.5099053 | 0.4900947 | 2005 |  0.281 | -0.122 | -0.501 |  0.128 | -0.236 | 1.89629 |  0.084 | Up   |  TRUE |\n",
       "| Down | 0.5067500 | 0.4932500 | 2005 |  0.084 |  0.281 | -0.122 | -0.501 |  0.128 | 1.87655 |  0.555 | Up   |  TRUE |\n",
       "| Down | 0.5267865 | 0.4732135 | 2005 |  0.555 |  0.084 |  0.281 | -0.122 | -0.501 | 2.39002 |  0.419 | Up   |  TRUE |\n",
       "| Down | 0.5184279 | 0.4815721 | 2005 |  0.419 |  0.555 |  0.084 |  0.281 | -0.122 | 2.14552 | -0.141 | Down | FALSE |\n",
       "| Down | 0.5119096 | 0.4880904 | 2005 | -0.141 |  0.419 |  0.555 |  0.084 |  0.281 | 2.18059 | -0.285 | Down | FALSE |\n",
       "| Down | 0.5208135 | 0.4791865 | 2005 | -0.285 | -0.141 |  0.419 |  0.555 |  0.084 | 2.58419 | -0.584 | Down | FALSE |\n",
       "| Down | 0.5067630 | 0.4932370 | 2005 | -0.584 | -0.285 | -0.141 |  0.419 |  0.555 | 2.20881 | -0.024 | Down | FALSE |\n",
       "| Down | 0.5085346 | 0.4914654 | 2005 | -0.024 | -0.584 | -0.285 | -0.141 |  0.419 | 1.99669 |  0.252 | Up   |  TRUE |\n",
       "| Down | 0.5140494 | 0.4859506 | 2005 |  0.252 | -0.024 | -0.584 | -0.285 | -0.141 | 2.06517 |  0.422 | Up   |  TRUE |\n",
       "| Down | 0.5115752 | 0.4884248 | 2005 |  0.422 |  0.252 | -0.024 | -0.584 | -0.285 | 1.88850 |  0.043 | Up   |  TRUE |\n",
       "| Up   | 0.4903484 | 0.5096516 | 2005 |  0.043 |  0.422 |  0.252 | -0.024 | -0.584 | 1.28581 | -0.955 | Down |  TRUE |\n",
       "| Up   | 0.4838834 | 0.5161166 | 2005 | -0.955 |  0.043 |  0.422 |  0.252 | -0.024 | 1.54047 |  0.130 | Up   | FALSE |\n",
       "| Up   | 0.4951725 | 0.5048275 | 2005 |  0.130 | -0.955 |  0.043 |  0.422 |  0.252 | 1.42236 | -0.298 | Down |  TRUE |\n",
       "| Up   | 0.4883996 | 0.5116004 | 2005 | -0.298 |  0.130 | -0.955 |  0.043 |  0.422 | 1.38254 | -0.489 | Down |  TRUE |\n",
       "\n"
      ],
      "text/plain": [
       "    .pred_class .pred_Down .pred_Up  Year Lag1   Lag2   Lag3   Lag4   Lag5  \n",
       "1   Up          0.4746176  0.5253824 2005 -0.134  0.008 -0.007  0.715 -0.431\n",
       "2   Up          0.4849923  0.5150077 2005 -0.812 -0.134  0.008 -0.007  0.715\n",
       "3   Up          0.4859010  0.5140990 2005 -1.167 -0.812 -0.134  0.008 -0.007\n",
       "4   Up          0.4970964  0.5029036 2005 -0.363 -1.167 -0.812 -0.134  0.008\n",
       "5   Down        0.5020574  0.4979426 2005  0.351 -0.363 -1.167 -0.812 -0.134\n",
       "6   Up          0.4930240  0.5069760 2005 -0.143  0.351 -0.363 -1.167 -0.812\n",
       "7   Up          0.4998249  0.5001751 2005  0.342 -0.143  0.351 -0.363 -1.167\n",
       "8   Up          0.4870931  0.5129069 2005 -0.610  0.342 -0.143  0.351 -0.363\n",
       "9   Down        0.5024961  0.4975039 2005  0.398 -0.610  0.342 -0.143  0.351\n",
       "10  Up          0.4842996  0.5157004 2005 -0.863  0.398 -0.610  0.342 -0.143\n",
       "11  Up          0.4991040  0.5008960 2005  0.600 -0.863  0.398 -0.610  0.342\n",
       "12  Down        0.5110114  0.4889886 2005  0.967  0.600 -0.863  0.398 -0.610\n",
       "13  Up          0.4828433  0.5171567 2005 -0.949  0.967  0.600 -0.863  0.398\n",
       "14  Up          0.4903061  0.5096939 2005 -0.778 -0.949  0.967  0.600 -0.863\n",
       "15  Up          0.4908305  0.5091695 2005 -0.641 -0.778 -0.949  0.967  0.600\n",
       "16  Up          0.4906733  0.5093267 2005 -0.353 -0.641 -0.778 -0.949  0.967\n",
       "17  Down        0.5038192  0.4961808 2005  0.400 -0.353 -0.641 -0.778 -0.949\n",
       "18  Down        0.5056233  0.4943767 2005  0.484  0.400 -0.353 -0.641 -0.778\n",
       "19  Up          0.4987701  0.5012299 2005  0.041  0.484  0.400 -0.353 -0.641\n",
       "20  Up          0.4957033  0.5042967 2005 -0.272  0.041  0.484  0.400 -0.353\n",
       "21  Down        0.5116259  0.4883741 2005  0.846 -0.272  0.041  0.484  0.400\n",
       "22  Down        0.5095922  0.4904078 2005  0.689  0.846 -0.272  0.041  0.484\n",
       "23  Down        0.5014199  0.4985801 2005  0.318  0.689  0.846 -0.272  0.041\n",
       "24  Up          0.4932926  0.5067074 2005 -0.277  0.318  0.689  0.846 -0.272\n",
       "25  Down        0.5142144  0.4857856 2005  1.104 -0.277  0.318  0.689  0.846\n",
       "26  Up          0.4899718  0.5100282 2005 -0.109  1.104 -0.277  0.318  0.689\n",
       "27  Up          0.4939133  0.5060867 2005  0.048 -0.109  1.104 -0.277  0.318\n",
       "28  Up          0.4843861  0.5156139 2005 -0.858  0.048 -0.109  1.104 -0.277\n",
       "29  Down        0.5009122  0.4990878 2005  0.421 -0.858  0.048 -0.109  1.104\n",
       "30  Down        0.5064339  0.4935661 2005  0.693  0.421 -0.858  0.048 -0.109\n",
       "⋮   ⋮           ⋮          ⋮         ⋮    ⋮      ⋮      ⋮      ⋮      ⋮     \n",
       "223 Down        0.5145899  0.4854101 2005  0.179 -0.385 -0.078  0.305  0.845\n",
       "224 Down        0.5294551  0.4705449 2005  0.941  0.179 -0.385 -0.078  0.305\n",
       "225 Down        0.5269512  0.4730488 2005  0.440  0.941  0.179 -0.385 -0.078\n",
       "226 Down        0.5191106  0.4808894 2005  0.527  0.440  0.941  0.179 -0.385\n",
       "227 Down        0.5235216  0.4764784 2005  0.508  0.527  0.440  0.941  0.179\n",
       "228 Down        0.5131754  0.4868246 2005  0.347  0.508  0.527  0.440  0.941\n",
       "229 Up          0.4775205  0.5224795 2005  0.209  0.347  0.508  0.527  0.440\n",
       "230 Up          0.4980526  0.5019474 2005 -0.851  0.209  0.347  0.508  0.527\n",
       "231 Down        0.5161680  0.4838320 2005  0.002 -0.851  0.209  0.347  0.508\n",
       "232 Down        0.5105212  0.4894788 2005 -0.636  0.002 -0.851  0.209  0.347\n",
       "233 Down        0.5415626  0.4584374 2005  1.216 -0.636  0.002 -0.851  0.209\n",
       "234 Down        0.5127389  0.4872611 2005  0.032  1.216 -0.636  0.002 -0.851\n",
       "235 Down        0.5145401  0.4854599 2005 -0.236  0.032  1.216 -0.636  0.002\n",
       "236 Down        0.5136198  0.4863802 2005  0.128 -0.236  0.032  1.216 -0.636\n",
       "237 Down        0.5047835  0.4952165 2005 -0.501  0.128 -0.236  0.032  1.216\n",
       "238 Down        0.5121013  0.4878987 2005 -0.122 -0.501  0.128 -0.236  0.032\n",
       "239 Down        0.5099053  0.4900947 2005  0.281 -0.122 -0.501  0.128 -0.236\n",
       "240 Down        0.5067500  0.4932500 2005  0.084  0.281 -0.122 -0.501  0.128\n",
       "241 Down        0.5267865  0.4732135 2005  0.555  0.084  0.281 -0.122 -0.501\n",
       "242 Down        0.5184279  0.4815721 2005  0.419  0.555  0.084  0.281 -0.122\n",
       "243 Down        0.5119096  0.4880904 2005 -0.141  0.419  0.555  0.084  0.281\n",
       "244 Down        0.5208135  0.4791865 2005 -0.285 -0.141  0.419  0.555  0.084\n",
       "245 Down        0.5067630  0.4932370 2005 -0.584 -0.285 -0.141  0.419  0.555\n",
       "246 Down        0.5085346  0.4914654 2005 -0.024 -0.584 -0.285 -0.141  0.419\n",
       "247 Down        0.5140494  0.4859506 2005  0.252 -0.024 -0.584 -0.285 -0.141\n",
       "248 Down        0.5115752  0.4884248 2005  0.422  0.252 -0.024 -0.584 -0.285\n",
       "249 Up          0.4903484  0.5096516 2005  0.043  0.422  0.252 -0.024 -0.584\n",
       "250 Up          0.4838834  0.5161166 2005 -0.955  0.043  0.422  0.252 -0.024\n",
       "251 Up          0.4951725  0.5048275 2005  0.130 -0.955  0.043  0.422  0.252\n",
       "252 Up          0.4883996  0.5116004 2005 -0.298  0.130 -0.955  0.043  0.422\n",
       "    Volume  Today  Direction model_incorrect\n",
       "1   0.78690 -0.812 Down       TRUE          \n",
       "2   1.51080 -1.167 Down       TRUE          \n",
       "3   1.72100 -0.363 Down       TRUE          \n",
       "4   1.73890  0.351 Up        FALSE          \n",
       "5   1.56910 -0.143 Down      FALSE          \n",
       "6   1.47790  0.342 Up        FALSE          \n",
       "7   1.49040 -0.610 Down       TRUE          \n",
       "8   1.48880  0.398 Up        FALSE          \n",
       "9   1.56210 -0.863 Down      FALSE          \n",
       "10  1.51030  0.600 Up        FALSE          \n",
       "11  1.33540  0.967 Up        FALSE          \n",
       "12  1.59680 -0.949 Down      FALSE          \n",
       "13  1.49870 -0.778 Down       TRUE          \n",
       "14  1.69200 -0.641 Down       TRUE          \n",
       "15  1.64350 -0.353 Down       TRUE          \n",
       "16  1.49460  0.400 Up        FALSE          \n",
       "17  1.61040  0.484 Up         TRUE          \n",
       "18  1.63590  0.041 Up         TRUE          \n",
       "19  1.60060 -0.272 Down       TRUE          \n",
       "20  1.64180  0.846 Up        FALSE          \n",
       "21  1.67980  0.689 Up         TRUE          \n",
       "22  1.68198  0.318 Up         TRUE          \n",
       "23  1.56174 -0.277 Down      FALSE          \n",
       "24  1.55446  1.104 Up        FALSE          \n",
       "25  1.64816 -0.109 Down      FALSE          \n",
       "26  1.34727  0.048 Up        FALSE          \n",
       "27  1.41617 -0.858 Down       TRUE          \n",
       "28  1.51104  0.421 Up        FALSE          \n",
       "29  1.49167  0.693 Up         TRUE          \n",
       "30  1.56230  0.070 Up         TRUE          \n",
       "⋮   ⋮       ⋮      ⋮         ⋮              \n",
       "223 2.12158  0.941 Up         TRUE          \n",
       "224 2.29804  0.440 Up         TRUE          \n",
       "225 2.45329  0.527 Up         TRUE          \n",
       "226 2.11735  0.508 Up         TRUE          \n",
       "227 2.29142  0.347 Up         TRUE          \n",
       "228 1.98540  0.209 Up         TRUE          \n",
       "229 0.72494 -0.851 Down       TRUE          \n",
       "230 2.01690  0.002 Up        FALSE          \n",
       "231 2.26834 -0.636 Down      FALSE          \n",
       "232 2.37469  1.216 Up         TRUE          \n",
       "233 2.61483  0.032 Up         TRUE          \n",
       "234 2.12558 -0.236 Down      FALSE          \n",
       "235 2.32584  0.128 Up         TRUE          \n",
       "236 2.11074 -0.501 Down      FALSE          \n",
       "237 2.09383 -0.122 Down      FALSE          \n",
       "238 2.17830  0.281 Up         TRUE          \n",
       "239 1.89629  0.084 Up         TRUE          \n",
       "240 1.87655  0.555 Up         TRUE          \n",
       "241 2.39002  0.419 Up         TRUE          \n",
       "242 2.14552 -0.141 Down      FALSE          \n",
       "243 2.18059 -0.285 Down      FALSE          \n",
       "244 2.58419 -0.584 Down      FALSE          \n",
       "245 2.20881 -0.024 Down      FALSE          \n",
       "246 1.99669  0.252 Up         TRUE          \n",
       "247 2.06517  0.422 Up         TRUE          \n",
       "248 1.88850  0.043 Up         TRUE          \n",
       "249 1.28581 -0.955 Down       TRUE          \n",
       "250 1.54047  0.130 Up        FALSE          \n",
       "251 1.42236 -0.298 Down       TRUE          \n",
       "252 1.38254 -0.489 Down       TRUE          "
      ]
     },
     "metadata": {},
     "output_type": "display_data"
    }
   ],
   "source": [
    "augment(mod_fit, Smarket_test) |>\n",
    "    mutate(model_incorrect = Direction != .pred_class) #|>\n",
    "    #summarize(error_rate_aka_n_incorrect = sum(model_incorrect) / n())"
   ]
  },
  {
   "cell_type": "markdown",
   "id": "63839215-ff30-4145-b402-3c318f3d838e",
   "metadata": {},
   "source": [
    "Run the following code to calculate the error rate for a simple model that always predicts \"Up\". Is the error rate better than your logistic regression model?"
   ]
  },
  {
   "cell_type": "code",
   "execution_count": 18,
   "id": "5dd8dd5e-5c72-4ee0-ab79-f830c43fbddd",
   "metadata": {
    "tags": []
   },
   "outputs": [
    {
     "data": {
      "text/html": [
       "<table class=\"dataframe\">\n",
       "<caption>A data.frame: 1 × 1</caption>\n",
       "<thead>\n",
       "\t<tr><th scope=col>error_rate</th></tr>\n",
       "\t<tr><th scope=col>&lt;dbl&gt;</th></tr>\n",
       "</thead>\n",
       "<tbody>\n",
       "\t<tr><td>0.4404762</td></tr>\n",
       "</tbody>\n",
       "</table>\n"
      ],
      "text/latex": [
       "A data.frame: 1 × 1\n",
       "\\begin{tabular}{l}\n",
       " error\\_rate\\\\\n",
       " <dbl>\\\\\n",
       "\\hline\n",
       "\t 0.4404762\\\\\n",
       "\\end{tabular}\n"
      ],
      "text/markdown": [
       "\n",
       "A data.frame: 1 × 1\n",
       "\n",
       "| error_rate &lt;dbl&gt; |\n",
       "|---|\n",
       "| 0.4404762 |\n",
       "\n"
      ],
      "text/plain": [
       "  error_rate\n",
       "1 0.4404762 "
      ]
     },
     "metadata": {},
     "output_type": "display_data"
    }
   ],
   "source": [
    "Smarket_test |>\n",
    "    summarise(error_rate = mean(Direction != \"Up\")) #error rate is lower in test data just given training data. \n",
    "#our model does not work as well as a model that always predicts up"
   ]
  },
  {
   "cell_type": "code",
   "execution_count": null,
   "id": "0a293e46-2123-4aa2-a065-03045ee08331",
   "metadata": {},
   "outputs": [],
   "source": []
  }
 ],
 "metadata": {
  "kernelspec": {
   "display_name": ".conda-data730-lecture:R",
   "language": "R",
   "name": "conda-env-.conda-data730-lecture-r"
  },
  "language_info": {
   "codemirror_mode": "r",
   "file_extension": ".r",
   "mimetype": "text/x-r-source",
   "name": "R",
   "pygments_lexer": "r",
   "version": "4.3.3"
  }
 },
 "nbformat": 4,
 "nbformat_minor": 5
}
